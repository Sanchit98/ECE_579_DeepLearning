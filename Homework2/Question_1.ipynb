{
  "nbformat": 4,
  "nbformat_minor": 0,
  "metadata": {
    "colab": {
      "provenance": []
    },
    "kernelspec": {
      "name": "python3",
      "display_name": "Python 3"
    },
    "language_info": {
      "name": "python"
    }
  },
  "cells": [
    {
      "cell_type": "code",
      "execution_count": 1,
      "metadata": {
        "id": "n-vuv518VXLE"
      },
      "outputs": [],
      "source": [
        "import math\n",
        "import torch"
      ]
    },
    {
      "cell_type": "code",
      "source": [
        "x1 = torch.tensor(1.0)\n",
        "w1 = torch.tensor(3.0)\n",
        "x2 = torch.tensor((math.pi)/3)\n",
        "w2 = torch.tensor(1.0)\n",
        "print(\"Value of input x1 is:\", x1)\n",
        "print(\"Value of input w1 is:\", w1)\n",
        "print(\"Value of input x2 is:\", x2)\n",
        "print(\"Value of input w2 is:\", w2)"
      ],
      "metadata": {
        "colab": {
          "base_uri": "https://localhost:8080/"
        },
        "id": "i9TSMFjlkz5W",
        "outputId": "bdf2923a-75f8-4e1c-d339-1631203d7923"
      },
      "execution_count": 4,
      "outputs": [
        {
          "output_type": "stream",
          "name": "stdout",
          "text": [
            "Value of input x1 is: tensor(1.)\n",
            "Value of input w1 is: tensor(3.)\n",
            "Value of input x2 is: tensor(1.0472)\n",
            "Value of input w2 is: tensor(1.)\n"
          ]
        }
      ]
    },
    {
      "cell_type": "code",
      "source": [
        "sin_x1w1 = torch.sin(x1*w1)\n",
        "cos_x2w2 = torch.cos(x2*w2)\n",
        "sin_x1w1_2 = sin_x1w1**2\n",
        "sin_x1w1_plus_cos_x2w2 = sin_x1w1_2 + cos_x2w2\n",
        "sin_x1w1_plus_cos_x2w2_plus_2 = sin_x1w1_plus_cos_x2w2 + 2\n",
        "f_xw = 1 / sin_x1w1_plus_cos_x2w2_plus_2 "
      ],
      "metadata": {
        "id": "fNEboBtTlmDj"
      },
      "execution_count": 5,
      "outputs": []
    },
    {
      "cell_type": "code",
      "source": [
        "print(\"Value of f(x,w) is: \",f_xw)"
      ],
      "metadata": {
        "colab": {
          "base_uri": "https://localhost:8080/"
        },
        "id": "3dAlEUdhpOHQ",
        "outputId": "519986c9-744c-4bc4-dc67-5d2f44e9ee7f"
      },
      "execution_count": 7,
      "outputs": [
        {
          "output_type": "stream",
          "name": "stdout",
          "text": [
            "Value of f(x,w) is:  tensor(0.3968)\n"
          ]
        }
      ]
    },
    {
      "cell_type": "code",
      "source": [
        "upstream_grad_1 = 1"
      ],
      "metadata": {
        "id": "lJUU9BvyrAmo"
      },
      "execution_count": 8,
      "outputs": []
    },
    {
      "cell_type": "code",
      "source": [
        "local_grad_1 = -1/((sin_x1w1_plus_cos_x2w2_plus_2)**2)\n",
        "upstream_grad_2 = upstream_grad_1*local_grad_1\n",
        "print(\"Upstream gradient 2 is: \",upstream_grad_2)"
      ],
      "metadata": {
        "colab": {
          "base_uri": "https://localhost:8080/"
        },
        "id": "yAMAZ6ripkrD",
        "outputId": "558de03e-b98a-4ccb-a64d-3a6f594d3520"
      },
      "execution_count": 10,
      "outputs": [
        {
          "output_type": "stream",
          "name": "stdout",
          "text": [
            "Upstream gradient 2 is:  tensor(-0.1575)\n"
          ]
        }
      ]
    },
    {
      "cell_type": "code",
      "source": [
        "local_grad_2 = 1\n",
        "upstream_grad_3 = upstream_grad_2*local_grad_2\n",
        "print(\"Upstream gradient 3 is: \",upstream_grad_3)"
      ],
      "metadata": {
        "colab": {
          "base_uri": "https://localhost:8080/"
        },
        "id": "hPZX39bKq3xg",
        "outputId": "0dfd63e9-e1c1-4ab3-add7-e160cd637a5f"
      },
      "execution_count": 12,
      "outputs": [
        {
          "output_type": "stream",
          "name": "stdout",
          "text": [
            "Upstream gradient 3 is:  tensor(-0.1575)\n"
          ]
        }
      ]
    },
    {
      "cell_type": "code",
      "source": [
        "local_grad_3_branch_x1w1 = 2*(sin_x1w1)\n",
        "upstream_grad_4_branch_x1w1 = upstream_grad_3*local_grad_3_branch_x1w1\n",
        "local_grad_3_branch_x2w2 = -torch.sin(x2*w2)\n",
        "upstream_grad_4_branch_x2w2 = upstream_grad_3*local_grad_3_branch_x2w2\n",
        "print(\"Upstream gradient 4 for branch 1 is: \",upstream_grad_4_branch_x1w1)\n",
        "print(\"Upstream gradient 4 for branch 2 is: \",upstream_grad_4_branch_x2w2)"
      ],
      "metadata": {
        "colab": {
          "base_uri": "https://localhost:8080/"
        },
        "id": "sQ4jfY-fr7H6",
        "outputId": "9d062434-2879-47ac-8a8b-4487c16d47f7"
      },
      "execution_count": 13,
      "outputs": [
        {
          "output_type": "stream",
          "name": "stdout",
          "text": [
            "Upstream gradient 4 for branch 1 is:  tensor(-0.0444)\n",
            "Upstream gradient 4 for branch 2 is:  tensor(0.1364)\n"
          ]
        }
      ]
    },
    {
      "cell_type": "code",
      "source": [
        "local_grad_4_branch_x1w1 = torch.cos(x1*w1)\n",
        "upstream_grad_5_branch_x1w1 = upstream_grad_4_branch_x1w1*local_grad_4_branch_x1w1\n",
        "local_grad_4_branch_x2 = w2\n",
        "upstream_grad_5_branch_x2 = upstream_grad_4_branch_x2w2*local_grad_4_branch_x2\n",
        "local_grad_4_branch_w2 = x2\n",
        "upstream_grad_5_branch_w2 = upstream_grad_4_branch_x2w2*local_grad_4_branch_w2\n",
        "print(\"Upstream gradient 5 for branch 1 is: \",upstream_grad_5_branch_x1w1)\n",
        "print(\"Gradient of f with respect to x2 is: \",upstream_grad_5_branch_x2)\n",
        "print(\"Gradient of f with respect to w2 is: \",upstream_grad_5_branch_w2)"
      ],
      "metadata": {
        "colab": {
          "base_uri": "https://localhost:8080/"
        },
        "id": "zvXhTue0Tivt",
        "outputId": "1484355b-358f-47aa-86aa-a49cc0287553"
      },
      "execution_count": 16,
      "outputs": [
        {
          "output_type": "stream",
          "name": "stdout",
          "text": [
            "Upstream gradient 5 for branch 1 is:  tensor(0.0440)\n",
            "Gradient of f with respect to x2 is:  tensor(0.1364)\n",
            "Gradient of f with respect to w2 is:  tensor(0.1428)\n"
          ]
        }
      ]
    },
    {
      "cell_type": "code",
      "source": [
        "local_grad_5_branch_x1 = w1\n",
        "upstream_grad_6_branch_x1 = upstream_grad_5_branch_x1w1*local_grad_5_branch_x1\n",
        "local_grad_5_branch_w1 = x1\n",
        "upstream_grad_6_branch_w1 = upstream_grad_5_branch_x1w1*local_grad_5_branch_w1\n",
        "print(\"Gradient of f with respect to x1 is: \",upstream_grad_6_branch_x1)\n",
        "print(\"Gradient of f with respect to w1 is: \",upstream_grad_6_branch_w1)"
      ],
      "metadata": {
        "colab": {
          "base_uri": "https://localhost:8080/"
        },
        "id": "cLPt0eYrb-2r",
        "outputId": "3ec26f84-f124-4bf5-b6b1-ddccd6a66f7b"
      },
      "execution_count": 15,
      "outputs": [
        {
          "output_type": "stream",
          "name": "stdout",
          "text": [
            "Gradient of f with respect to x1 is:  tensor(0.1320)\n",
            "Gradient of f with respect to w1 is:  tensor(0.0440)\n"
          ]
        }
      ]
    }
  ]
}