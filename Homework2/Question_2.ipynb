{
  "nbformat": 4,
  "nbformat_minor": 0,
  "metadata": {
    "colab": {
      "provenance": []
    },
    "kernelspec": {
      "name": "python3",
      "display_name": "Python 3"
    },
    "language_info": {
      "name": "python"
    }
  },
  "cells": [
    {
      "cell_type": "code",
      "execution_count": 1,
      "metadata": {
        "id": "KcW9lmjLHUNC"
      },
      "outputs": [],
      "source": [
        "import math\n",
        "import torch\n",
        "import numpy as np"
      ]
    },
    {
      "cell_type": "code",
      "source": [
        "w = torch.tensor([[.5,1.0,-1.0],[3.0,1.0,.5],[-1.0,-1.0,-2.0]])\n",
        "x = torch.tensor([[10.0],[10.0],[-10.0]])\n",
        "print(\"Matrix W is: \",w)\n",
        "print(\"Vector x is: \",x)"
      ],
      "metadata": {
        "colab": {
          "base_uri": "https://localhost:8080/"
        },
        "id": "Reur5Z60Hh0P",
        "outputId": "0b8c963f-2e4f-4dea-9519-8bf641aec3ec"
      },
      "execution_count": 2,
      "outputs": [
        {
          "output_type": "stream",
          "name": "stdout",
          "text": [
            "Matrix W is:  tensor([[ 0.5000,  1.0000, -1.0000],\n",
            "        [ 3.0000,  1.0000,  0.5000],\n",
            "        [-1.0000, -1.0000, -2.0000]])\n",
            "Vector x is:  tensor([[ 10.],\n",
            "        [ 10.],\n",
            "        [-10.]])\n"
          ]
        }
      ]
    },
    {
      "cell_type": "code",
      "source": [
        "wx=torch.mm(w,x)\n",
        "sigmoid_wx = torch.sigmoid(wx)\n",
        "norm_wx = torch.norm(sigmoid_wx)**2"
      ],
      "metadata": {
        "id": "VtAKs6W0IKZ2"
      },
      "execution_count": 3,
      "outputs": []
    },
    {
      "cell_type": "code",
      "source": [
        "print(\"Output of sigmoid function is: \",sigmoid_wx)"
      ],
      "metadata": {
        "colab": {
          "base_uri": "https://localhost:8080/"
        },
        "id": "6GczMdZVPmxt",
        "outputId": "0bb5c83a-0b8d-417f-d83e-0c8a6e3656f8"
      },
      "execution_count": 4,
      "outputs": [
        {
          "output_type": "stream",
          "name": "stdout",
          "text": [
            "Output of sigmoid function is:  tensor([[1.0000],\n",
            "        [1.0000],\n",
            "        [0.5000]])\n"
          ]
        }
      ]
    },
    {
      "cell_type": "code",
      "source": [
        "print(\"Output of L2 norm function is: \",norm_wx)"
      ],
      "metadata": {
        "colab": {
          "base_uri": "https://localhost:8080/"
        },
        "id": "-2zDlOWmInWr",
        "outputId": "867030db-585f-4c22-b20b-758f2ed11c9f"
      },
      "execution_count": 5,
      "outputs": [
        {
          "output_type": "stream",
          "name": "stdout",
          "text": [
            "Output of L2 norm function is:  tensor(2.2500)\n"
          ]
        }
      ]
    },
    {
      "cell_type": "code",
      "source": [
        "upstream_grad_1 = 1"
      ],
      "metadata": {
        "id": "6Yh2dgVIOTiu"
      },
      "execution_count": 6,
      "outputs": []
    },
    {
      "cell_type": "code",
      "source": [
        "local_grad_1 = torch.empty(3,1)\n",
        "for i in range(3):\n",
        "  local_grad_1[i] = 2*sigmoid_wx[i]\n",
        "print(\"Local gradient 1 is = \",local_grad_1)\n",
        "upstream_grad_2 = upstream_grad_1*local_grad_1\n",
        "print(\"Upstream gradient 2 is = \",upstream_grad_2)"
      ],
      "metadata": {
        "colab": {
          "base_uri": "https://localhost:8080/"
        },
        "id": "dyqUwH-9Oxc4",
        "outputId": "9fac3a58-057f-4f86-e25a-d25f8a5e2bf5"
      },
      "execution_count": 8,
      "outputs": [
        {
          "output_type": "stream",
          "name": "stdout",
          "text": [
            "Local gradient 1 is =  tensor([[2.],\n",
            "        [2.],\n",
            "        [1.]])\n",
            "Upstream gradient 2 is =  tensor([[2.],\n",
            "        [2.],\n",
            "        [1.]])\n"
          ]
        }
      ]
    },
    {
      "cell_type": "code",
      "source": [
        "local_grad_2 = torch.empty(3,1)\n",
        "upstream_grad_3 = torch.empty(3,1)\n",
        "for i in range(3):\n",
        "  local_grad_2[i] = sigmoid_wx[i]*(1 - sigmoid_wx[i])\n",
        "  upstream_grad_3[i] = upstream_grad_2[i]*local_grad_2[i]\n",
        "print(\"Local gradient 2 is = \",local_grad_2)\n",
        "print(\"Upstream gradient 3 is = \",upstream_grad_3)"
      ],
      "metadata": {
        "colab": {
          "base_uri": "https://localhost:8080/"
        },
        "id": "sXWNJKnhSWCv",
        "outputId": "0b64099e-0b48-403a-96fb-5083b0461951"
      },
      "execution_count": 9,
      "outputs": [
        {
          "output_type": "stream",
          "name": "stdout",
          "text": [
            "Local gradient 2 is =  tensor([[0.0000],\n",
            "        [0.0000],\n",
            "        [0.2500]])\n",
            "Upstream gradient 3 is =  tensor([[0.0000],\n",
            "        [0.0000],\n",
            "        [0.2500]])\n"
          ]
        }
      ]
    },
    {
      "cell_type": "code",
      "source": [
        "local_grad_3_w = torch.transpose(x, 0 ,1)\n",
        "upstream_grad_4_w = torch.mm(upstream_grad_3,local_grad_3_w)\n",
        "print(\"Final gradient of f with respect to W is \",upstream_grad_4_w)"
      ],
      "metadata": {
        "colab": {
          "base_uri": "https://localhost:8080/"
        },
        "id": "0M_Tc1p3Dfkf",
        "outputId": "30dba921-dd56-465c-9c59-a07a8db9ca42"
      },
      "execution_count": 10,
      "outputs": [
        {
          "output_type": "stream",
          "name": "stdout",
          "text": [
            "Final gradient of f with respect to W is  tensor([[ 0.0000,  0.0000, -0.0000],\n",
            "        [ 0.0000,  0.0000, -0.0000],\n",
            "        [ 2.5000,  2.5000, -2.5000]])\n"
          ]
        }
      ]
    },
    {
      "cell_type": "code",
      "source": [
        "local_grad_3_x = torch.transpose(w, 0 ,1)\n",
        "upstream_grad_4_w = torch.mm(local_grad_3_x,upstream_grad_3)\n",
        "print(\"Final gradient of f with respect to x is \",upstream_grad_4_w)"
      ],
      "metadata": {
        "colab": {
          "base_uri": "https://localhost:8080/"
        },
        "id": "PosTLh4fHqTY",
        "outputId": "da96c2d0-3598-4d47-bd93-afe7d33b3bf7"
      },
      "execution_count": 11,
      "outputs": [
        {
          "output_type": "stream",
          "name": "stdout",
          "text": [
            "Final gradient of f with respect to x is  tensor([[-0.2500],\n",
            "        [-0.2500],\n",
            "        [-0.5000]])\n"
          ]
        }
      ]
    }
  ]
}